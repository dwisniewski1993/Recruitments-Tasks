{
 "cells": [
  {
   "cell_type": "markdown",
   "metadata": {},
   "source": [
    "# Task 2 - Dominik Wiśniewski"
   ]
  },
  {
   "cell_type": "markdown",
   "metadata": {},
   "source": [
    "The task is to build a binary classifier to classify sentences into sarcastic or not."
   ]
  },
  {
   "cell_type": "markdown",
   "metadata": {},
   "source": [
    "Unlike the previous task, mainly due to the size of the data set, I decided to approach the problem from the other side. After transforming the data, I will learn simpler models, and then, depending on their effectiveness, I will switch to more complex models."
   ]
  },
  {
   "cell_type": "code",
   "execution_count": null,
   "metadata": {},
   "outputs": [],
   "source": [
    "# imports\n",
    "import re\n",
    "import pandas as pd\n",
    "import numpy as np\n",
    "import matplotlib.pyplot as plt\n",
    "from nltk.stem.porter import PorterStemmer\n",
    "from sklearn.model_selection import train_test_split, cross_val_score\n",
    "from sklearn.feature_extraction.text import TfidfVectorizer\n",
    "from sklearn.naive_bayes import GaussianNB\n",
    "from sklearn.linear_model import LogisticRegression\n",
    "from sklearn.ensemble import RandomForestClassifier\n",
    "from sklearn.svm import LinearSVC\n",
    "import tensorflow as tf"
   ]
  },
  {
   "cell_type": "code",
   "execution_count": null,
   "metadata": {},
   "outputs": [],
   "source": [
    "dataset = pd.read_json(r'Graduate - HEADLINES dataset (2019-06).json', lines = True)"
   ]
  },
  {
   "cell_type": "code",
   "execution_count": null,
   "metadata": {},
   "outputs": [],
   "source": [
    "dataset.shape"
   ]
  },
  {
   "cell_type": "code",
   "execution_count": null,
   "metadata": {},
   "outputs": [],
   "source": [
    "dataset.head()"
   ]
  },
  {
   "cell_type": "code",
   "execution_count": null,
   "metadata": {},
   "outputs": [],
   "source": [
    "dataset.tail()"
   ]
  },
  {
   "cell_type": "code",
   "execution_count": null,
   "metadata": {},
   "outputs": [],
   "source": [
    "print(dataset.isnull().any(axis = 0))"
   ]
  },
  {
   "cell_type": "markdown",
   "metadata": {},
   "source": [
    "It is always better to check the null values in the dataset first. This one does not contain any."
   ]
  },
  {
   "cell_type": "markdown",
   "metadata": {},
   "source": [
    "The headline column has some special symbols that have to be eliminated.\n",
    "So, i am using Regular Expression to eliminate special symbols."
   ]
  },
  {
   "cell_type": "code",
   "execution_count": null,
   "metadata": {},
   "outputs": [],
   "source": [
    "dataset['headline'] = dataset['headline'].apply(lambda s : re.sub('[^a-zA-Z]', ' ', s))"
   ]
  },
  {
   "cell_type": "code",
   "execution_count": null,
   "metadata": {},
   "outputs": [],
   "source": [
    "dataset['is_sarcastic'].value_counts().plot(kind='bar')\n",
    "plt.title(f\"Class ballance\")\n",
    "plt.xlabel(f\"Sarcastic or not\")\n",
    "plt.ylabel(\"Count\")\n",
    "plt.show()\n",
    "plt.close()"
   ]
  },
  {
   "cell_type": "code",
   "execution_count": null,
   "metadata": {},
   "outputs": [],
   "source": [
    "X = dataset['headline']\n",
    "Y = dataset['is_sarcastic']"
   ]
  },
  {
   "cell_type": "markdown",
   "metadata": {},
   "source": [
    "Stemming is the process of reducing a word to its word stem that affixes to suffixes and prefixes or the roots of words known as a lemma."
   ]
  },
  {
   "cell_type": "code",
   "execution_count": null,
   "metadata": {},
   "outputs": [],
   "source": [
    "ps = PorterStemmer()"
   ]
  },
  {
   "cell_type": "code",
   "execution_count": null,
   "metadata": {},
   "outputs": [],
   "source": [
    "X = X.apply(lambda x: x.split())\n",
    "X = X.apply(lambda x : ' '.join([ps.stem(word) for word in x]))"
   ]
  },
  {
   "cell_type": "markdown",
   "metadata": {},
   "source": [
    "TF-IDF is an abbreviation for Term Frequency-Inverse Document Frequency and is a very common algorithm to transform the text into a meaningful representation of numbers. The technique is widely used to extract features across various NLP applications. I limited the number of features to 5,000 to finish learning more complex models in finite time."
   ]
  },
  {
   "cell_type": "code",
   "execution_count": null,
   "metadata": {},
   "outputs": [],
   "source": [
    "tv = TfidfVectorizer(max_features = 5000)\n",
    "X = list(X)\n",
    "X = tv.fit_transform(X).toarray()"
   ]
  },
  {
   "cell_type": "markdown",
   "metadata": {},
   "source": [
    "Next step is spliting set to train and test, in this task test set size will be small one."
   ]
  },
  {
   "cell_type": "code",
   "execution_count": null,
   "metadata": {},
   "outputs": [],
   "source": [
    "X_train, X_test, Y_train, Y_test = train_test_split(X, Y, test_size = .05, random_state = 0)"
   ]
  },
  {
   "cell_type": "code",
   "execution_count": null,
   "metadata": {},
   "outputs": [],
   "source": [
    "models = [GaussianNB(), LogisticRegression(), RandomForestClassifier(), LinearSVC()]"
   ]
  },
  {
   "cell_type": "code",
   "execution_count": null,
   "metadata": {},
   "outputs": [],
   "source": [
    "TestModels = pd.DataFrame()\n",
    "tmp = {}\n",
    "\n",
    "for model in models:\n",
    "    model_obj = str(model)\n",
    "    model_name = model_obj[:model_obj.index('(')]\n",
    "    tmp['Model'] = model_name\n",
    "    \n",
    "    print(f\"Calculating {model_name} model\")\n",
    "    \n",
    "    print(\"Start training model...\")\n",
    "    model.fit(X_train, Y_train)\n",
    "    \n",
    "    print(\"Calculating scores....\")\n",
    "    tmp['TrainScore'] = model.score(X_train, Y_train)\n",
    "    tmp['TestScore'] = model.score(X_test, Y_test)\n",
    "    \n",
    "    print(f\"Train Score: {tmp['TrainScore']}\\nTest Score: {tmp['TestScore']}\\n\")\n",
    "    \n",
    "    TestModels = TestModels.append([tmp])\n",
    "\n",
    "TestModels.set_index('Model', inplace=True)\n",
    "fig, axes = plt.subplots(ncols=1, figsize=(10, 4))\n",
    "TestModels.TrainScore.plot(ax=axes, kind='bar', title='Train data score')\n",
    "plt.show()\n",
    "\n",
    "fig, axes = plt.subplots(ncols=1, figsize=(10, 4))\n",
    "TestModels.TestScore.plot(ax=axes, kind='bar', title='Test data score')\n",
    "plt.show()"
   ]
  },
  {
   "cell_type": "markdown",
   "metadata": {},
   "source": [
    "Logistic regression and linear SVM achieved 83% efficiency, the other models did less well."
   ]
  },
  {
   "cell_type": "markdown",
   "metadata": {},
   "source": [
    "Now it's time for the artificial neural network, apart from the vectorization of features, the indicated activity is also the vectorization of labels, the so-called one hot encoding."
   ]
  },
  {
   "cell_type": "code",
   "execution_count": null,
   "metadata": {},
   "outputs": [],
   "source": [
    "# helping mapping function to make one hot encoding\n",
    "def map_labels(labels: np.array) -> list:\n",
    "        \"\"\"\n",
    "        Making one hot\n",
    "        \"\"\"\n",
    "        mapped = [np.array([1, 0]) if x == 0 else np.array([0, 1]) for x in labels]\n",
    "        return mapped\n",
    "\n",
    "Y = np.array(map_labels(Y))"
   ]
  },
  {
   "cell_type": "code",
   "execution_count": null,
   "metadata": {},
   "outputs": [],
   "source": [
    "X_train, X_test, Y_train, Y_test = train_test_split(X, Y, test_size=.05, random_state=0)"
   ]
  },
  {
   "cell_type": "code",
   "execution_count": null,
   "metadata": {},
   "outputs": [],
   "source": [
    "# defining model\n",
    "model = tf.keras.models.Sequential()\n",
    "model.add(tf.keras.layers.Dense(512, activation=tf.nn.relu))\n",
    "model.add(tf.keras.layers.Dropout(0.4))\n",
    "model.add(tf.keras.layers.Dense(2, activation=tf.nn.softmax))\n",
    "model.compile(optimizer='adam', loss='categorical_crossentropy', metrics=['accuracy'])\n",
    "model.fit(X_train, Y_train, batch_size=32, epochs=5, workers=4, use_multiprocessing=True, \n",
    "          verbose=1, validation_data=(X_test, Y_test))"
   ]
  },
  {
   "cell_type": "code",
   "execution_count": null,
   "metadata": {},
   "outputs": [],
   "source": [
    "val_loss, val_acc = model.evaluate(X_test, Y_test, verbose=0)\n",
    "\n",
    "print(f\"Accuracy: {val_acc}, loss: {val_loss}\")"
   ]
  },
  {
   "cell_type": "markdown",
   "metadata": {},
   "source": [
    "The model is limited to 5 epochs due to its very fast overfitting. A Dropout layer has also been added that removes 40% of connections. The validation set helped to catch this problem because the effectiveness during validation decreased quickly while the effectiveness on the training set increased quickly which is a classic example of model overfitting - the moment when it loses its ability to generalize and learns the training examples, not the scheme between them. This model could not exceed 85% on the validation set."
   ]
  },
  {
   "cell_type": "markdown",
   "metadata": {},
   "source": [
    "Next model that i am going to use is recurrent model. GRU and LSTM."
   ]
  },
  {
   "cell_type": "code",
   "execution_count": null,
   "metadata": {},
   "outputs": [],
   "source": [
    "# defining recurent model\n",
    "model = tf.keras.models.Sequential()\n",
    "model.add(tf.keras.layers.GRU(512, activation=tf.nn.relu, return_sequences=True))\n",
    "model.add(tf.keras.layers.Dense(2, activation=tf.nn.softmax))\n",
    "model.compile(optimizer='adam', loss='categorical_crossentropy', metrics=['accuracy'])\n",
    "\n",
    "model.fit(X_train.reshape(1, X_train.shape[0], X_train.shape[1]), Y_train.reshape(1, Y_train.shape[0], Y_train.shape[1]), \n",
    "          epochs=50, verbose=1, \n",
    "          validation_data=(X_test.reshape(1, X_test.shape[0], X_test.shape[1]), \n",
    "                           Y_test.reshape(1, Y_test.shape[0], Y_test.shape[1])))"
   ]
  },
  {
   "cell_type": "markdown",
   "metadata": {},
   "source": [
    "Unfortunately, the GRU model, just like the LSTM, took more time and machine resources than I had access to. I managed to train the GRU model for 50 epochs and for a moment gained the efficiency of the validation set at 79%. With such a large collection, such networks require much more time."
   ]
  }
 ],
 "metadata": {
  "kernelspec": {
   "display_name": "Python 3",
   "language": "python",
   "name": "python3"
  },
  "language_info": {
   "codemirror_mode": {
    "name": "ipython",
    "version": 3
   },
   "file_extension": ".py",
   "mimetype": "text/x-python",
   "name": "python",
   "nbconvert_exporter": "python",
   "pygments_lexer": "ipython3",
   "version": "3.7.6"
  }
 },
 "nbformat": 4,
 "nbformat_minor": 2
}
