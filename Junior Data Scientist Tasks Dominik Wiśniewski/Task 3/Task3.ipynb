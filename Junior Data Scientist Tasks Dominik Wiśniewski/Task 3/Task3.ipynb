{
 "cells": [
  {
   "cell_type": "markdown",
   "metadata": {},
   "source": [
    "# Task 3 - Dominik Wiśniewski"
   ]
  },
  {
   "cell_type": "markdown",
   "metadata": {},
   "source": [
    "In order to standardize the way of giving tasks, this task will also be done using jupyter nootebook, and SQL queries will be implemented using python and sqllite3. First, I going to create a database and tables and fill them with the records provided in the task content."
   ]
  },
  {
   "cell_type": "code",
   "execution_count": null,
   "metadata": {},
   "outputs": [],
   "source": [
    "# imports\n",
    "import sqlite3"
   ]
  },
  {
   "cell_type": "code",
   "execution_count": null,
   "metadata": {},
   "outputs": [],
   "source": [
    "# db name\n",
    "database_name = r'testdb'\n",
    "\n",
    "# rows\n",
    "john_peters = (34577, 'John', 'Peters', '1993-02-15', 'Mathematics')\n",
    "kate_smith = (34578, 'Kate', 'Smith', '1992-10-29', 'Economy')\n",
    "class_1 = (6743, 'algebra', 4352, '2019_summer')\n",
    "class_2 = (2876, 'calculus', 5325, '2019_summer')\n",
    "class_3 = (3466, 'statistics', 6253, '2019_winter')\n",
    "result_1 = (34577, 6743, '2019-06-19', 2)\n",
    "result_2 = (34577, 2876, '2019-06-06', 3)\n",
    "result_3 = (34578, 6743, '2019-06-19', 4.5)\n",
    "\n",
    "# sql queries\n",
    "sql_create_students_table = \"\"\" CREATE TABLE IF NOT EXISTS students (\n",
    "                                        student_id integer PRIMARY KEY,\n",
    "                                        name char(10) NOT NULL,\n",
    "                                        surname char(10) NOT NULL,\n",
    "                                        birght_date text NOT NULL,\n",
    "                                        faculty char(20)\n",
    "                                    ); \"\"\"\n",
    "\n",
    "sql_create_class_catalogue_table = \"\"\" CREATE TABLE IF NOT EXISTS class_catalogue (\n",
    "                                        class_id integer PRIMARY KEY,\n",
    "                                        class_name char(10) NOT NULL,\n",
    "                                        professor_id integer,\n",
    "                                        semester text\n",
    "                                    ); \"\"\"\n",
    "\n",
    "sql_create_exam_results_table = \"\"\" CREATE TABLE IF NOT EXISTS exam_results (\n",
    "                                        student_id integer,\n",
    "                                        class_id integer,\n",
    "                                        exam_date text,\n",
    "                                        grade integer,\n",
    "                                        FOREIGN KEY (student_id) REFERENCES students (student_id),\n",
    "                                        FOREIGN KEY (class_id) REFERENCES class_catalogue (class_id)\n",
    "                                        \n",
    "                                    ); \"\"\"\n",
    "\n",
    "add_student = ''' INSERT INTO students(student_id,name,surname,birght_date,faculty)\n",
    "              VALUES(?,?,?,?,?) '''\n",
    "\n",
    "add_class = ''' INSERT INTO class_catalogue(class_id,class_name,professor_id,semester)\n",
    "              VALUES(?,?,?,?) '''\n",
    "\n",
    "add_result = ''' INSERT INTO exam_results(student_id,class_id,exam_date,grade)\n",
    "              VALUES(?,?,?,?) '''\n",
    "\n",
    "\n",
    "# connecting to db\n",
    "conn = sqlite3.connect(database_name)\n",
    "\n",
    "# creating db cursor\n",
    "cur = conn.cursor()\n",
    "\n",
    "#creating students table\n",
    "cur.execute(sql_create_students_table)\n",
    "\n",
    "#creating students table\n",
    "cur.execute(sql_create_class_catalogue_table)\n",
    "\n",
    "#creating students table\n",
    "cur.execute(sql_create_exam_results_table)\n",
    "\n",
    "# adding students\n",
    "cur.execute(add_student, john_peters)\n",
    "cur.execute(add_student, kate_smith)\n",
    "\n",
    "# adding classes\n",
    "cur.execute(add_class, class_1)\n",
    "cur.execute(add_class, class_2)\n",
    "cur.execute(add_class, class_3)\n",
    "\n",
    "# adding results\n",
    "cur.execute(add_result, result_1)\n",
    "cur.execute(add_result, result_2)\n",
    "cur.execute(add_result, result_3)\n",
    "\n",
    "# selecting and printing tables\n",
    "\n",
    "# students\n",
    "print(\"Students:\")\n",
    "cur.execute(\"SELECT * FROM students\")\n",
    "rows = cur.fetchall()\n",
    "for row in rows:\n",
    "    print(row)\n",
    "print(\"\\n\")\n",
    "\n",
    "# classes\n",
    "print(\"Classes:\")\n",
    "cur.execute(\"SELECT * FROM class_catalogue\")\n",
    "rows = cur.fetchall()\n",
    "for row in rows:\n",
    "    print(row)\n",
    "print(\"\\n\")\n",
    "\n",
    "# results\n",
    "print(\"Exam results:\")\n",
    "cur.execute(\"SELECT * FROM exam_results\")\n",
    "rows = cur.fetchall()\n",
    "for row in rows:\n",
    "    print(row)"
   ]
  },
  {
   "cell_type": "markdown",
   "metadata": {},
   "source": [
    "Everything looks like the content of the task. The purpose of this task is to list information about students who have received 4 or more from the algebra exam."
   ]
  },
  {
   "cell_type": "code",
   "execution_count": null,
   "metadata": {},
   "outputs": [],
   "source": [
    "four_and_above = \"\"\"SELECT s.student_id, s.name, s.surname, s.faculty, r.grade, r.exam_date, c.class_name\n",
    "                    FROM students s\n",
    "                        INNER JOIN exam_results r on s.student_id = r.student_id\n",
    "                        INNER JOIN class_catalogue c on r.class_id = c.class_id\n",
    "                    WHERE c.class_name = 'algebra' AND r.grade >= 4\"\"\"\n",
    "\n",
    "cur.execute(four_and_above)\n",
    "rows = cur.fetchall()\n",
    "for row in rows:\n",
    "    print(row)"
   ]
  },
  {
   "cell_type": "markdown",
   "metadata": {},
   "source": [
    "In the SQL query above, I join 3 tables from which I draw information about students, their grades from exams and classes. Then I limit the search to algebra class and then to grade 4 and above."
   ]
  }
 ],
 "metadata": {
  "kernelspec": {
   "display_name": "Python 3",
   "language": "python",
   "name": "python3"
  },
  "language_info": {
   "codemirror_mode": {
    "name": "ipython",
    "version": 3
   },
   "file_extension": ".py",
   "mimetype": "text/x-python",
   "name": "python",
   "nbconvert_exporter": "python",
   "pygments_lexer": "ipython3",
   "version": "3.7.6"
  }
 },
 "nbformat": 4,
 "nbformat_minor": 2
}
